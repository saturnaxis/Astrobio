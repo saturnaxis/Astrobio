{
 "cells": [
  {
   "cell_type": "markdown",
   "metadata": {},
   "source": [
    "# Gaia & Oxygen\n",
    "\n",
    "## Gaia: An Integrated System\n",
    "In 1973, [James Lovelock](https://en.wikipedia.org/wiki/James_Lovelock) and [Lynn Margulis](https://en.wikipedia.org/wiki/Lynn_Margulis) introduced a hypothesis about the conditions for which life might need to continue on a habitable world.  It is insufficient to focus on the origins of life, but there are other processes that could be necessary for the propagation of life over billions of years.  The known biogeochemical cycles (for carbon and nitrogen) introduce feedbacks between the organic biosphere and the inorganic geochemical environment.  Early studies in atmospheric science showed that the principal gases $\\rm N_2$ and $\\rm O_2$ are cycled by the biosphere with a geometric mean residence time on the order of a few thousands of years.  The paper by [Lovelock & Margulis (1973)](https://www.tandfonline.com/doi/abs/10.3402/tellusa.v26i1-2.9731) presents a view of the atmosphere as an extension of the biosphere rather just a product of geologic outgassing.  Due to the feedbacks that regulate the internal geology, biology, and atmosphere of the Earth, the biosphere itself acts as an *active* adaptive control system to maintain the Earth in homeostasis called the [**Gaia hypothesis**](https://en.wikipedia.org/wiki/Gaia_hypothesis).\n",
    "\n",
    "### Theoretical Basis\n",
    "The discovery of a new organism and its habitat is sometimes instinctively framed as a purposeful structure that is crafted to suit the needs of the organism.  For example, a bees nest provides a purpose that is distinctive from other non-social insects in that the ecosystem developed between the bees facilitates the construction of a monument to the hive.  The organization of the tropical rainforest was not recognized a larger, complex system until the evidence of the cycling of essential elements was discovered.  The emergence of a larger ecosystem (i.e., Gaia) may exist as a phenomenon that is necessary for living systems to thrive, and the lack of such an ecosystem might signify the differences in the observed biosphere in the Solar System.\n",
    "\n",
    "One definition of life can be cast thermodynamically as the ability for a system to decrease the local entropy at the expense of the free energy taken from the environment [(Bernal 1951)](https://scirp.org/reference/referencespapers.aspx?referenceid=2939648).  This may be expressed in the form of the continuity equation for entropy as\n",
    "\n",
    "\\begin{align}\n",
    "\\rho \\frac{dS}{dt} + \\nabla S = \\theta,\n",
    "\\end{align}\n",
    "\n",
    "which depends on the internal creation rate of entropy $\\theta$, the density $\\rho$, and the entropy $S$.  The $\\nabla S$ signifies the outflow of entropy and the $\\rho(dS/dt)$ is the entropy's rate of change within the enclosed region.  From the Second Law of Thermodynamics, the creation rate of entropy $\\theta$ must be greater than or equal to zero, which prohibits both of the left-hand side terms from turning negative simultaneously.  Note that this classification includes both vortices and flames, which may be too broad.\n",
    "\n",
    "The thermodynamic definition of life serves to help the Gaia hypothesis by defining local changes of entropy as the product of a living entity that modifies the background environment through either physical or chemical disequilibrium.  A human and a tree modify their respective environments in different ways in which is bears pointing out the pertinent thermodynamic processes.\n",
    "\n",
    "- A human takes in free energy in the form of the chemical potential contained in food and oxygen, while sustaining a low internal entropy through the excretion of waste chemicals and heat.  The environment that receives the excess entropy includes the atmosphere and the transfer boundary includes the skin.  \n",
    "- A tree takes in free energy directly from the Sun to sustain a high chemical potential gradient within the atmosphere on a planetary scale.  The atmosphere receives the excess oxygen and the transfer boundary includes the tree's leaves.\n",
    "\n",
    "The boundaries between each of these organisms is arbitrary, where a more general boundary is between the atmosphere and interplanetary space.  In this instance, the whole assembly of life contributes to the outgoing entropy flux from the Earth in the form of the long-wave IR radiation.  The greenhouse effect is largely described abiotically and contributes to the expected entropy flux of a planet devoid of life.  Therefore, the difference in entropy flux between a living and non-living planet could be a measure for identifying 'Gaia' (*if* such a thing exists).\n",
    "\n",
    "<div align=\"center\">\n",
    "\n",
    "<iframe width=\"560\" height=\"315\"\n",
    "src=\"https://www.youtube.com/embed/GIFRg2skuDI\"\n",
    "frameborder=\"0\" \n",
    "allow=\"accelerometer; autoplay; encrypted-media; gyroscope; picture-in-picture\" \n",
    "allowfullscreen></iframe>\n",
    "\n",
    "</div>\n",
    "\n",
    "### Atmospheric Stability ([Kirchner (2002)](https://link.springer.com/article/10.1023/A:1014237331082))\n",
    "A key component of the Gaia hypothesis is feedbacks from biological systems that help regulate the environment which in turn facilitate their own survival.  As a result, the biota co-evolves along with Earth's environment throughout geologic time ([Schneider & Londer (1984)](https://www.google.com/books/edition/The_Coevolution_of_Climate_and_Life/qStRAAAAMAAJ?hl=en)).  The consequences of feedbacks that emerge from the co-evolution can potentially be beneficial or detrimental to any given group of organisms.  In the Gaia literature, a larger emphasis is placed on negative feedbacks that are beneficial to the organisms involved or the biota as a whole ([Lenton (1998)](https://www.nature.com/articles/28792); [Gillon (2000)](https://www.nature.com/articles/28792)).\n",
    "\n",
    "Detecting life elsewhere in the galaxy depends on our observations of planetary atmospheres, which could uncover a host of evidence concerning potentially biological feedbacks.  Although it may not be a sufficient condition, atmospheric stability does appear to be an enticing.  Some of the relevant biological feedbacks include:\n",
    "\n",
    "**Negative feedbacks**\n",
    "- Increased atmospheric $\\rm CO_2$ concentrations that stimulate increased photosynthesis and leads to carbon sequestration in biomass.\n",
    "- Warming that leads to drying (and thus sparser vegetation) and increased desertification in mid-latitudes, which can increase the planetary albedo and atmospheric dust concentrations.\n",
    "\n",
    "**Positive feedbacks**\n",
    "- Warmer temperatures that increase soil respiration rates and release organic carbon stored in soils.\n",
    "- Warmer temperatures increase the frequency of wildfires, which leads to a net replacement of the older, larger trees with younger, smaller ones and results in a net release of carbon from forest biomass.\n",
    "- Higher atmospheric $\\rm CO_2$ concentrations may increase drought tolerance in plants and potentially lead to expansion of shrublands into deserts.  This would reduce the planetary albedo and dust concentrations.\n",
    "- Warming that leads to the replacement of tundra by boreal (coniferous dominant) forest, which decreases the planetary albedo.\n",
    "- Warming of soils accelerates methane production over consumption, which leads to net methane release.\n",
    "- Warmer temperatures lead to the release of $\\rm CO_2$ and methane from high-latitude peatlands.\n",
    "  \n",
    "The above list of feedbacks in not exhaustive nor comprehensive, but it does show ways in which the biota can react to a changing atmosphere.  The Gaia hypothesis proposes that some of these (maybe all) feedbacks lead to an emergent regulatory effect when taking multiple feedbacks into account.  However, this remains to be seen and appears to contradict many scientists who believe that the positive feedbacks broadly outweigh the negative ones.\n",
    "\n",
    "Our planet's surface area is largely comprised (${\\sim}71\\%$) by water, where oceans hold $96.5\\%$ of all Earth's water.  Therefore, the interface between the oceanic biota and the atmosphere could be more important than the land-based effects.  One outgrowth of the Gaia hypothesis suggests that oceanic phytoplankton might serve as a planetary thermostat by producing dimethyl sulfide, or $\\rm (CH_3)_2 S$, which is a precursor for cloud condensation nuclei and a response to a warming atmosphere ([Charlson et al. (1987)](https://www.nature.com/articles/326655a0)).  \n",
    "\n",
    "However, paleoclimate data ([Legrand et al. (1988)](https://www.sciencedirect.com/science/article/pii/0004698188900376); [Kirchner (1990)](https://www.nature.com/articles/345470a0); [Legrand et al. (1991)](https://www.nature.com/articles/350144a0)) indicate such a marine biological thermostat is hooked up backwards, where it exacerbates the cooling or warming trends (i.e., makes the planet colder when it is cold and warmer when it is warm).  Moreover, dimethyl sulfide production in the Southern Ocean may be controlled by atmospheric dust, which supplies iron as a limiting nutrient.  The Antarctic ice core record is consistent with this view, where a greater deposition of atmospheric dust occurs during glacial periods, along with high levels of dimethyl sulfide proxy compounds, lower concentrations of $\\rm CO_2$ and $\\rm CH_4$, and lower temperatures.\n",
    "\n",
    "```{figure-md} Vostok-ice-fig\n",
    "<img src=\"Kirchner_Fig1.png\"  width=\"450px\">\n",
    "\n",
    "The Vostok ice core record of atmospheric temperature, carbon dioxide $\\rm CO_2$, methane $\\rm CH_4$, and dust loading (data of [Petit et al. (1999)](https://www.nature.com/articles/20859)).  Glacial maxima (blue bands) and interglacials (red bands) exhibit relatively narrow ranges of concentrations and temperatures.  The temperature, $\\rm CO_2$, and methane appear correlated, while the dust concentration (inverted scale) is anti-correlated (i.e., low dust allows for warmer temperatures).  Figure credit: [Kirchner (2002)](https://link.springer.com/article/10.1023/A:1014237331082).\n",
    "```"
   ]
  },
  {
   "cell_type": "markdown",
   "metadata": {},
   "source": [
    "\n",
    "### Biologic Stability: DaisyWorld\n",
    "\n",
    "### Weak Gaia\n",
    "\n",
    "### Strong Gaia\n"
   ]
  },
  {
   "cell_type": "markdown",
   "metadata": {},
   "source": [
    "## The Prebiotic Atmosphere\n",
    "\n",
    "### Oxygen in the Prebiotic Atmosphere\n",
    "\n",
    "### The Escape of Hydrogen to Space\n",
    "\n",
    "### Atmospheric Synthesis\n",
    "\n"
   ]
  },
  {
   "cell_type": "markdown",
   "metadata": {},
   "source": [
    "## The Oxygen Revolution\n",
    "\n",
    "### The Modern Oxygen Cycle\n",
    "\n",
    "### The Balance of Oxygen with Life\n",
    "\n",
    "### Limits on Oxygen Levels on Early Earth\n",
    "\n",
    "### History of the Rise of Oxygen\n",
    "\n",
    "#### Balance between Oxygen Loss and Gain\n",
    "\n",
    "#### Reservoirs of Oxygen\n",
    "\n",
    "### History of Oxygen on Earth\n",
    "\n",
    "### Shield against UV Radiation\n",
    "\n",
    "### Onset of Eukaryotic Life"
   ]
  }
 ],
 "metadata": {
  "kernelspec": {
   "display_name": "Python 3.8.8 ('base')",
   "language": "python",
   "name": "python3"
  },
  "language_info": {
   "codemirror_mode": {
    "name": "ipython",
    "version": 3
   },
   "file_extension": ".py",
   "mimetype": "text/x-python",
   "name": "python",
   "nbconvert_exporter": "python",
   "pygments_lexer": "ipython3",
   "version": "3.8.8"
  },
  "orig_nbformat": 4,
  "vscode": {
   "interpreter": {
    "hash": "be4bb3c2f54353c26a4bcaba16037df563cd9cf9cf84d3cc553cf8d78d2d3996"
   }
  }
 },
 "nbformat": 4,
 "nbformat_minor": 2
}
