{
 "cells": [
  {
   "cell_type": "markdown",
   "metadata": {},
   "source": [
    "# Student Participation (Fall 2022)\n",
    "Students will work in pairs to produce summaries of each class meeting.  These summaries should list the main topics discussed and emphasized ideas/examples during the respective lecture.  Students are encouraged to be as detailed as possible without being overly verbose.  The summaries should be submitted as a [pull request](https://docs.github.com/en/pull-requests/collaborating-with-pull-requests/proposing-changes-to-your-work-with-pull-requests) before the next class meeting.  **See BlazeView announcement for some simplified instructions.**\n"
   ]
  },
  {
   "cell_type": "markdown",
   "metadata": {},
   "source": [
    "## Aug 15\n",
    "- Introductions\n",
    "  - Dr. Quarles told us about his research and how it connects to Astrobiology through climate variations.\n",
    "  - He studies how a planet's orbit evolves with two stars, where the changes in the planet's orbit can affect the climate through obliquity variations.  Obliquity is a way of describing a planet's spin axis, where it can precess (like a top) due to the perturbations from the companion star.  This precession can be responsible for large changes in obliquity.  Current models suggest that Mars may have undergone a climate catastrophe in part due to its obliquity variations, while the Earth's climate has been regulated by the Moon.\n",
    "- Syllabus\n",
    "  - The class syllabus provides us with a roadmap for the course.  The course is structured for the students to learn through class participation/activities and homework. Student learning will be assessed through exams, a term paper, and an in-class presentation.\n",
    "- Course website\n",
    "  - Class notes are provided on the course website, which includes web urls (for jargon) and video explanations of some topics.\n",
    "  \n",
    "## Aug 17 (Avery, St. John, & Speldrick)\n",
    "- **1.1 A Brief History of the Planetary Sciences**\n",
    "  - The study of Astronomy existed long before there was even a name for it. Many ancient civilizations even knew of the existance of planets and wrote about them. These civilizations also used the planets and stars to help them navigate. As civilization advanced, new technological advances allowed us to see and learn more about space. They allowed us to see a different view of the Moon (Luna 3). They also allowed us to find planets outside our own solar system (Kepler and TESS), and helped put to rest some theories about Earth itself (Earth's water didn't come from comets).\n",
    "  - All planets were visited by spacecraft during the cold war.\n",
    "\n",
    "  - Planets derived from the Greek word πλανήτης(planetes, which is the term for wandering stars). Many ancient civilizations would use a written language to describe many events that would take place within the celestial world. \n",
    "\n",
    "  - The rings of Saturn are not primodial. The planet had a possible collision with a previous moon that became what is now known as its famous rings. \n",
    "\n",
    "  - Analysis of comet G7P revealed that Earth's water did not come from foreign bodies, but was present at formation. This was done by comparing the Deuterium/Hydrogen ratio (D/H ratio). The D/H ratio of comets matches water on Mars, but differs considerably from water present on Earth, suggesting different origins.\n",
    "\n",
    "  - Astronomers research exoplanets and their ability to formulate the possibility of there to be life on other planets. These requisistions happen to be based on their mass, how close they are to their star, their orbits, radii, and golden zones. \n",
    "\n",
    "  - Onto biology, they study the aspect of how life can survive. For example would be the life that is able to survive in the depths of the ocean off of thermonuclear energy collection. \n",
    "\n",
    "  - EM Spectroscopy allows us to study the atmosphere and geology of most celestial bodies\n",
    "  - $M_\\oplus$ represents units of Earth mass; $R_\\oplus$ represents units of Earth radius\n",
    "  - $M_\\odot$ represents units of Solar mass; $R_\\odot$ represents units of Solar radius\n",
    "  - AU represents astronomical units, the length of the semimajor axis of a massless particle whose orbital period is 1 year around a Solar-mass star\n",
    "- **1.2 Inventory of the Solar System**\n",
    "  - Solar System\n",
    "    - The solar system  is dominated by a single objection, which is our Sun. The sun is fat and uses its gravity to hold its 4.571 billion year old debris in its orbit. \n",
    "    - The Sun contains almost all of our solar system's mass. The Sun is a plasma ball powered by fusion. Compared to the Sun, the planets are debris.\n",
    "  - Giant Planets\n",
    "    - The two major giant planets (Saturn and Jupiter), mainly consist of gases (hydrogen and helium).\n",
    "    - Jupiter is 318 Earth masses ($9.54 \\times 10^{-4}$ Solar masses) while Saturn is 1/3 of Jupiter's mass.\n",
    "    - The astrophysical ices are Water ($\\rm H_2O$), Ammonia ($\\rm NH_3$), and Methane ($\\rm CH_4$).\n",
    "    - Uranus is 14 Earth masses and Neptune is 17 Earth masses. Uranus and Neptune are mainly composed of water, ammonia, and methane ices.\n",
    "    - Neptune and Uranus are ice giants. Brrr! Is it cold over there, am I right? Pretty sure it rains diamonds on Neptune or something. \n",
    "  - Terrestrial Planets\n",
    "    - They are made up of silicates and many chemicals. \n",
    "    - Earth and Venus have the two largest with defined atmospheres. \n",
    "    - Earth and Venus are the largest two and are similar in size. Mars is smaller than Earth. Mercury is very tiny compared to the others.\n",
    "    - Earth, Mars, and Mercury have an internally generated magnetic field. \n",
    "    - Mercury has the thinnest atmosphere, Venus has the thickest. \n",
    "    - Mercury has an atmosphere by definition, although it is essentially just a thin layer of surface particles kicked up by solar winds. \n",
    "  - Minor Planets and Comets\n",
    "    - The Kuiper belt consists of a thick disk of small bodies beyond the orbit of Neptune. These bodies are composed of a mixture of ice and rock, where the two largest members are Eris and Pluto. A minor planet include asteroids, as well as distant minor planets.\n",
    "    - Kuiper belt objects, like Pluto and Eris, are mixtures of rock and ice, and have eccentric orbits. They are so far away that we can only observe them at perihelion. The alignment of orbits in the outer solar system suggest that many of these objects are orbiting an unknown body beyond Neptune that may be as large as 5 Earth masses. \n",
    "    - The Kuiper belt is a thick disk of small bodies, it is mainly composed of rock and ice. Eris and Pluto are the largest of the bodies in the Kuiper belt.  The objects in the Kuiper belt can only be observed at their perihelion due to faintness.\n",
    "    - Pluto and Neptune have a crossing orbit, but never collide.\n",
    "    - Comets are ice-rich objects that shed mass when subjected to solar heating. Comets may have formed near the giant planet region initially, were transported and stored in the Oort Cloud, Kuiper Belt, or the scattered disk. Comets are ice-rich objects that shed mass when subjected to solar heat.  Comets are ice rich objects that can originate from the Asteroid belt or the Kuiper belt.\n",
    "  - Satellite and Rings Systems\n",
    "    - Mercury and Venus are the only two planets in the solar system without natural satellites. \n",
    "    - All gas giants have rings, Jupiters rings are faint and spread out. This is primarily due to Jupiters large and numerous moons.  Saturn has the most pronounced rings.\n",
    "    - All major satellites (except Triton) orbit in the direction of the host planet's rotation (i.e. prograde). \n",
    "    - Venus and Uranus are the only two planets that move in retrograde.\n",
    "    - Each of the giant planets have rings!\n",
    "  - Heliosphere\n",
    "    - The planetary orbits that lie within the region of space containing the Sun's magnetic fields and ionized gas. The solar wind consists of plasma. \n",
    "    - This is the region the Sun's solar winds act on.\n",
    "    - The area it merges with the Interstellar medium is the heliopause.  Voyager 1 and 2 have gone beyond this region.\n",
    "    - The Interstellar medium is mostly composed of $\\rm H$ and $\\rm He$.\n",
    "- **1.3 What is a Planet?**\n",
    "  - **Planet**: A celestial body that orbits the Sun, has a sufficient mass to assume a nearly round shapeshape through its self-gravity, and has cleared its orbital neighborhood of similar sized-bodies.\n",
    "\n",
    "  - **Dwarf Planet**: A celestial body that orbits the Sun, has sufficient mass to assume a (nearly round) shape through its self-gravity, has not cleared its orbital neighborhood of similar sized-bodies, and is not a satellite.  Dwarf planets are objects that fit the definition of a planet but have not clearied the orbital neighborhood.\n",
    "\n",
    "  - **Star**: A self-sustaining (proton-proton chain) fusion is sufficient for thermal pressure to balance gravity.\n",
    "\n",
    "  - **Stellar remnant**: no more fusion (dead star)\n",
    "\n",
    "  - **Brown dwarf**: substantial deuterium (proton + neutron) fusion, where more than of the object's original deuterium inventory is destroyed by fusion.\n",
    "  - **Planet**: negligible fusion, with a precise mass limit depending on the initial composition. It can orbit one (or more) stars, a stellar remnant, or no stars at all."
   ]
  },
  {
   "cell_type": "markdown",
   "metadata": {},
   "source": [
    "## Aug 22 (Bostic, Soom, & Knox)\n"
   ]
   Today in Mr.Quarles class we learned about Planetary Properties, what makes a planet a planet and how do we detect and find these things
- **Orbit**
   - planets orblit along an elliptical path
   - a line segment connects the planets with the sun 
   - Varpi is the sum of an argument of the pericenter 
- **Mass**
   - planets mass is deduced by the gravitational force of nearby bodies
   - orbit of moons
   - Gravitational Perturbations
- **How do we detect these**
   - Spacecraft tracking
   - Spiral density waves
   - Nongravitational forces
- **Size**
   - Angular Size and Shapes
   - Occultation
   - Radar
   - Photometric Obersvations
   - Land and Orbiters
- **Rotations**
   - Axil Tilt 
   - Retrograde and Prograde
   -Surface Markings
   - Magnetic Fields 
   - Doppler Shift
   - Photometric Oberservations 
- **Shape**
   - Direct Imaging 
   - Cord Lengths
   - Radar Echos
   - Light Curves
   - Tempeture 
   - Magnetic Field
  },
  {
   "cell_type": "markdown",
   "metadata": {},
   "source": [
    "## Aug 24 (Dubose, Rios, & Freeman)\n",
    "\n",
    "- **2.1 Overview of Dynamics**\n",
    "  - Orbital Dynamics –> study of planetary bodies.\n",
    "    - **Gravitational interactions** determine how a planet’s distance from the Sun varies over time and thus how much solar radiation the planet receives. \n",
    "    - **Rotation rates** determine the length of the day. \n",
    "    - **Obliquity** influences the temperature differences between the pole and equator, as well as seasonal variations. \n",
    "    - **Tidal heating** (from tidal distortions) produces extensive volcanism on bodies such as Jupiter’s moon Io. \n",
    "  - Development\n",
    "    - The study of planetary motions goes back to old age through observational studies and kinematic modeling. It begins with Tycho Brache and Johannes Kepler. \n",
    "    - Newton showed that the motion of two bodies, resulting from their mutual attraction is described by two conic sections: ellipses for bound orbits and parabolas and hyperbolas for unbound trajectories. \n",
    "    - **The first law of Kepler’s** planetary motion: All planets move along elliptical paths with the Sun at one focus. \n",
    "    - **The second law of Kepler’s** planetary motion: A line connecting any given planet and the Sun sweeps out an area [Equation] at a constant rate. \n",
    "    - **The third law** of planetary motion: The square of a planet’s orbital period [Equation] about the Sun (in years) is equal to the cube of its semimajor axis [Equation] (In AU).\n",
    "    - **Newton’s first law of motion and gravity**: A body remains at rest or in uniform motion unless a force is exerted upon it. It is also called the law of inertia and is a restatement of Galileo Galilei’s work from the 16th century \n",
    "    - **Newton’s second law of motion and gravity**: When a body is acted upon by a force, the time rate of change of its momentum equals the force. \n",
    "    - **Newton’s third law of motion and gravity**: If a body [Equation] that exerts a force on another body [Equation], there is a force of equal magnitude and opposite direction exerted by body [Equation] onto body [Equation]. \n",
    "    - **Newton’s universal law of gravity**: Everybody in the universe exerts an attractive force on every other body that is directly proportional to the product of their masses and the inverse square of the distance between them. \n",
    "- **2.2 Connections Between Physics, Astrophysics, and Planetary Science**\n",
    "  - A planet is composed of 10^50 molecules, so large that is impossible to model planets on a molecule-by-molecule bases.\n",
    "  - The radial structure of planets and stars is determined by a balance of the inward gravitational force and the resistance to collapse provided by a pressure gradient.\n",
    "  - Sun is the dominant body in our solar system. Without the Sun, there would not be life in Earth's surface.\n",
    "  - The properties of a planetary system depend on the composition of individual bodies.\n",
    "- **2.3 Thermodynamics**\n",
    "  - Analysis of difference systems of matter.\n",
    "  - When the latent heat of transformation is absorbed, can be induced by melting, boiling, sublimation, or condensation.\n",
    "  - **2.3.1 Laws of Thermodynamics**\n",
    "    - Closed systems: mass transfer to and from the external environment are not permitted.\n",
    "    - Open systems: allows mass and energy to freely flow between the system and its environment.\n",
    "    - Closed systems are in equilibrium, where this is known as the zeroth law of **thermodynamics**. \n",
    "    - The **thermodynamic state** of a system refers to the system's physical properties (density, pressure, and temperature.)\n",
    "  - **2.3.2 Barometric Law and Hydrostatic Equilibrium**\n",
    "    - The large-scale structure of a planetary body or star is governed by a balance between gravity and pressure= hydrostatic equilibrium.\n",
    "    - An equation of state (EOS) describes the relationship between two or more state variables (e.g., pressure, density, and temperature of a substance).\n",
    "    - If the body is highly compressible the body may be centrally condensed.\n",
    "    - The Earth is differentiated (i.e., not homogeneous), and the increase in density towards the center compensates for our overestimate in gravity. "
   ]
  },
  {
   "cell_type": "markdown",
   "metadata": {},
   "source": [
    "## Aug 29 (Avery, St. John, & Speldrick)"
   ]
  },
  {
   "cell_type": "markdown",
   "metadata": {},
   "source": [
    "## Aug 31 (Bostic, Soom, & Knox)"
   ]
  },
  {
   "cell_type": "markdown",
   "metadata": {},
   "source": [
    "## Sept 7 (Dubose, Rios, & Freeman)"
   ]
  }
 ],
 "metadata": {
  "kernelspec": {
   "display_name": "Python 3.8.8 ('base')",
   "language": "python",
   "name": "python3"
  },
  "language_info": {
   "codemirror_mode": {
    "name": "ipython",
    "version": 3
   },
   "file_extension": ".py",
   "mimetype": "text/x-python",
   "name": "python",
   "nbconvert_exporter": "python",
   "pygments_lexer": "ipython3",
   "version": "3.8.8"
  },
  "orig_nbformat": 4,
  "vscode": {
   "interpreter": {
    "hash": "be4bb3c2f54353c26a4bcaba16037df563cd9cf9cf84d3cc553cf8d78d2d3996"
   }
  }
 },
 "nbformat": 4,
 "nbformat_minor": 2
}
